{
  "cells": [
    {
      "cell_type": "code",
      "execution_count": 1,
      "id": "019805d9-4e9f-4306-8f18-a565cb1e8845",
      "metadata": {
        "colab": {
          "base_uri": "https://localhost:8080/"
        },
        "id": "019805d9-4e9f-4306-8f18-a565cb1e8845",
        "outputId": "9c3cd686-f8a9-468b-a47c-afb555238d18"
      },
      "outputs": [
        {
          "output_type": "stream",
          "name": "stdout",
          "text": [
            "Looking in indexes: https://pypi.org/simple, https://pypi.anaconda.org/daft-nightly/simple\n",
            "Collecting getdaft\n",
            "  Downloading getdaft-0.4.1-cp39-abi3-manylinux_2_17_x86_64.manylinux2014_x86_64.whl.metadata (11 kB)\n",
            "Requirement already satisfied: pyarrow>=8.0.0 in /usr/local/lib/python3.10/dist-packages (from getdaft) (17.0.0)\n",
            "Requirement already satisfied: fsspec in /usr/local/lib/python3.10/dist-packages (from getdaft) (2024.10.0)\n",
            "Requirement already satisfied: tqdm in /usr/local/lib/python3.10/dist-packages (from getdaft) (4.67.1)\n",
            "Requirement already satisfied: numpy>=1.16.6 in /usr/local/lib/python3.10/dist-packages (from pyarrow>=8.0.0->getdaft) (1.26.4)\n",
            "Downloading getdaft-0.4.1-cp39-abi3-manylinux_2_17_x86_64.manylinux2014_x86_64.whl (34.7 MB)\n",
            "\u001b[2K   \u001b[90m━━━━━━━━━━━━━━━━━━━━━━━━━━━━━━━━━━━━━━━━\u001b[0m \u001b[32m34.7/34.7 MB\u001b[0m \u001b[31m9.2 MB/s\u001b[0m eta \u001b[36m0:00:00\u001b[0m\n",
            "\u001b[?25hInstalling collected packages: getdaft\n",
            "Successfully installed getdaft-0.4.1\n",
            "Collecting min-dalle\n",
            "  Downloading min-dalle-0.4.11.tar.gz (10 kB)\n",
            "  Preparing metadata (setup.py) ... \u001b[?25l\u001b[?25hdone\n",
            "Requirement already satisfied: torch in /usr/local/lib/python3.10/dist-packages (2.5.1+cu121)\n",
            "Requirement already satisfied: Pillow in /usr/local/lib/python3.10/dist-packages (11.0.0)\n",
            "Requirement already satisfied: typing_extensions>=4.1 in /usr/local/lib/python3.10/dist-packages (from min-dalle) (4.12.2)\n",
            "Requirement already satisfied: numpy>=1.21 in /usr/local/lib/python3.10/dist-packages (from min-dalle) (1.26.4)\n",
            "Requirement already satisfied: requests>=2.23 in /usr/local/lib/python3.10/dist-packages (from min-dalle) (2.32.3)\n",
            "Collecting emoji (from min-dalle)\n",
            "  Downloading emoji-2.14.0-py3-none-any.whl.metadata (5.7 kB)\n",
            "Requirement already satisfied: filelock in /usr/local/lib/python3.10/dist-packages (from torch) (3.16.1)\n",
            "Requirement already satisfied: networkx in /usr/local/lib/python3.10/dist-packages (from torch) (3.4.2)\n",
            "Requirement already satisfied: jinja2 in /usr/local/lib/python3.10/dist-packages (from torch) (3.1.4)\n",
            "Requirement already satisfied: fsspec in /usr/local/lib/python3.10/dist-packages (from torch) (2024.10.0)\n",
            "Requirement already satisfied: sympy==1.13.1 in /usr/local/lib/python3.10/dist-packages (from torch) (1.13.1)\n",
            "Requirement already satisfied: mpmath<1.4,>=1.1.0 in /usr/local/lib/python3.10/dist-packages (from sympy==1.13.1->torch) (1.3.0)\n",
            "Requirement already satisfied: charset-normalizer<4,>=2 in /usr/local/lib/python3.10/dist-packages (from requests>=2.23->min-dalle) (3.4.0)\n",
            "Requirement already satisfied: idna<4,>=2.5 in /usr/local/lib/python3.10/dist-packages (from requests>=2.23->min-dalle) (3.10)\n",
            "Requirement already satisfied: urllib3<3,>=1.21.1 in /usr/local/lib/python3.10/dist-packages (from requests>=2.23->min-dalle) (2.2.3)\n",
            "Requirement already satisfied: certifi>=2017.4.17 in /usr/local/lib/python3.10/dist-packages (from requests>=2.23->min-dalle) (2024.12.14)\n",
            "Requirement already satisfied: MarkupSafe>=2.0 in /usr/local/lib/python3.10/dist-packages (from jinja2->torch) (3.0.2)\n",
            "Downloading emoji-2.14.0-py3-none-any.whl (586 kB)\n",
            "\u001b[2K   \u001b[90m━━━━━━━━━━━━━━━━━━━━━━━━━━━━━━━━━━━━━━━━\u001b[0m \u001b[32m586.9/586.9 kB\u001b[0m \u001b[31m27.9 MB/s\u001b[0m eta \u001b[36m0:00:00\u001b[0m\n",
            "\u001b[?25hBuilding wheels for collected packages: min-dalle\n",
            "  Building wheel for min-dalle (setup.py) ... \u001b[?25l\u001b[?25hdone\n",
            "  Created wheel for min-dalle: filename=min_dalle-0.4.11-py3-none-any.whl size=10518 sha256=91e605d24ca5dc79a9753ddc08033a22c1c2b7d1b3a651fcd21f84be325afcee\n",
            "  Stored in directory: /root/.cache/pip/wheels/52/6d/e3/c4eae4ec07f23168d03ed0f58073be84cd4d0a4c990eec7dc2\n",
            "Successfully built min-dalle\n",
            "Installing collected packages: emoji, min-dalle\n",
            "Successfully installed emoji-2.14.0 min-dalle-0.4.11\n"
          ]
        }
      ],
      "source": [
        "!pip install getdaft --pre --extra-index-url https://pypi.anaconda.org/daft-nightly/simple\n",
        "!pip install min-dalle torch Pillow"
      ]
    },
    {
      "cell_type": "code",
      "execution_count": 2,
      "id": "9536868c",
      "metadata": {
        "tags": [
          "parameters"
        ],
        "id": "9536868c"
      },
      "outputs": [],
      "source": [
        "CI = False"
      ]
    },
    {
      "cell_type": "code",
      "execution_count": 3,
      "id": "8ff9d08a",
      "metadata": {
        "tags": [],
        "id": "8ff9d08a"
      },
      "outputs": [],
      "source": [
        "import daft\n",
        "\n",
        "# Flip this flag if you want to see the performance of running on CPU vs GPU\n",
        "USE_GPU = False if CI else True\n",
        "IO_CONFIG = daft.io.IOConfig(\n",
        "    s3=daft.io.S3Config(anonymous=True, region_name=\"us-west-2\")\n",
        ")  # Use anonymous-mode for accessing AWS S3\n",
        "PARQUET_PATH = \"s3://daft-public-data/tutorials/laion-parquet/train-00000-of-00001-6f24a7497df494ae.parquet\""
      ]
    },
    {
      "cell_type": "markdown",
      "id": "d5a31f06",
      "metadata": {
        "id": "d5a31f06"
      },
      "source": [
        "```{hint}\n",
        "✨✨✨ **Run this notebook on Google Colab** ✨✨✨\n",
        "\n",
        "You can [run this notebook yourself with Google Colab](https://colab.research.google.com/github/Eventual-Inc/Daft/blob/main/tutorials/text_to_image/text_to_image_generation.ipynb)!\n",
        "```"
      ]
    },
    {
      "cell_type": "markdown",
      "id": "78db424a-96b5-46f3-bd32-484f5c6b92a3",
      "metadata": {
        "id": "78db424a-96b5-46f3-bd32-484f5c6b92a3"
      },
      "source": [
        "# Generating Images from Text with DALL-E\n",
        "\n",
        "In this tutorial, we will be using the DALL-E model to generate images from text. We will explore how to use GPUs with Daft to accelerate computations.\n",
        "\n",
        "To run this tutorial:\n",
        "\n",
        "1. You will need access to a GPU. If you are on Google Colab, you may switch to a GPU runtime by going to the menu `Runtime -> Change runtime type -> Hardware accelerator -> GPU -> Save`.\n",
        "\n",
        "Let's get started!"
      ]
    },
    {
      "cell_type": "markdown",
      "id": "4da65a96-e4fe-4795-92d0-a5e631b58e33",
      "metadata": {
        "id": "4da65a96-e4fe-4795-92d0-a5e631b58e33"
      },
      "source": [
        "## Setting Up\n",
        "\n",
        "First, let's load a Parquet file into Daft. This particular file is hosted in HuggingFace at a https URL."
      ]
    },
    {
      "cell_type": "code",
      "execution_count": 4,
      "id": "806451f8-68af-462a-af7b-ff5480425a3a",
      "metadata": {
        "id": "806451f8-68af-462a-af7b-ff5480425a3a",
        "tags": []
      },
      "outputs": [],
      "source": [
        "import daft\n",
        "\n",
        "daft.context.set_runner_py(use_thread_pool=False)\n",
        "\n",
        "parquet_df = daft.read_parquet(PARQUET_PATH, io_config=IO_CONFIG)"
      ]
    },
    {
      "cell_type": "markdown",
      "id": "a1e20f90",
      "metadata": {
        "id": "a1e20f90"
      },
      "source": [
        "Let's go ahead and `.collect()` this DataFrame. This will download the Parquet file and materialize the data in memory so that all our subsequent operations will be cached!"
      ]
    },
    {
      "cell_type": "code",
      "execution_count": 5,
      "id": "e1e3b619-beaf-465e-83f2-5ab71638dcc1",
      "metadata": {
        "colab": {
          "base_uri": "https://localhost:8080/",
          "height": 753
        },
        "id": "e1e3b619-beaf-465e-83f2-5ab71638dcc1",
        "outputId": "3231677c-c12b-4292-d9dd-3a7536e9dbc3",
        "tags": []
      },
      "outputs": [
        {
          "output_type": "stream",
          "name": "stderr",
          "text": [
            "/usr/local/lib/python3.10/dist-packages/daft/runners/pyrunner.py:342: UserWarning: PyRunner is deprecated and the new NativeRunner is now the default for local execution.Please switch to the NativeRunner now via `daft.context.set_runner_native()` or by setting the env variable `DAFT_RUNNER=native`. Please report any issues at github.com/Eventual-Inc/Daft/issues\n",
            "  warnings.warn(\n"
          ]
        },
        {
          "output_type": "execute_result",
          "data": {
            "text/plain": [
              "╭───────────────────┬───────────────────┬─────────┬────────────┬─────────────────┬──────────────────┬──────────────────╮\n",
              "│ URL               ┆ TEXT              ┆ WIDTH   ┆      …     ┆ AESTHETIC_SCORE ┆ hash             ┆ __index_level_0_ │\n",
              "│ ---               ┆ ---               ┆ ---     ┆            ┆ ---             ┆ ---              ┆ _                │\n",
              "│ Utf8              ┆ Utf8              ┆ Float64 ┆ (4 hidden) ┆ Float32         ┆ Int64            ┆ ---              │\n",
              "│                   ┆                   ┆         ┆            ┆                 ┆                  ┆ Int64            │\n",
              "╞═══════════════════╪═══════════════════╪═════════╪════════════╪═════════════════╪══════════════════╪══════════════════╡\n",
              "│ https://images.as ┆ Photo pour        ┆ 450     ┆ …          ┆ 6.5262036       ┆ 1777707726169138 ┆ 396              │\n",
              "│ setsdelivery…     ┆ Japanese pagoda   ┆         ┆            ┆                 ┆ 033              ┆                  │\n",
              "│                   ┆ an…               ┆         ┆            ┆                 ┆                  ┆                  │\n",
              "├╌╌╌╌╌╌╌╌╌╌╌╌╌╌╌╌╌╌╌┼╌╌╌╌╌╌╌╌╌╌╌╌╌╌╌╌╌╌╌┼╌╌╌╌╌╌╌╌╌┼╌╌╌╌╌╌╌╌╌╌╌╌┼╌╌╌╌╌╌╌╌╌╌╌╌╌╌╌╌╌┼╌╌╌╌╌╌╌╌╌╌╌╌╌╌╌╌╌╌┼╌╌╌╌╌╌╌╌╌╌╌╌╌╌╌╌╌╌┤\n",
              "│ https://images.fi ┆ Soaring by Peter  ┆ 675     ┆ …          ┆ 6.636003        ┆ 4231601394502896 ┆ 7984             │\n",
              "│ neartamerica…     ┆ Eades             ┆         ┆            ┆                 ┆ 160              ┆                  │\n",
              "├╌╌╌╌╌╌╌╌╌╌╌╌╌╌╌╌╌╌╌┼╌╌╌╌╌╌╌╌╌╌╌╌╌╌╌╌╌╌╌┼╌╌╌╌╌╌╌╌╌┼╌╌╌╌╌╌╌╌╌╌╌╌┼╌╌╌╌╌╌╌╌╌╌╌╌╌╌╌╌╌┼╌╌╌╌╌╌╌╌╌╌╌╌╌╌╌╌╌╌┼╌╌╌╌╌╌╌╌╌╌╌╌╌╌╌╌╌╌┤\n",
              "│ https://assets.vg ┆ far cry 4 concept ┆ 1600    ┆ …          ┆ 6.690522        ┆ 6867480114123960 ┆ 21440            │\n",
              "│ 247.com/curr…     ┆ art is the …      ┆         ┆            ┆                 ┆ 364              ┆                  │\n",
              "├╌╌╌╌╌╌╌╌╌╌╌╌╌╌╌╌╌╌╌┼╌╌╌╌╌╌╌╌╌╌╌╌╌╌╌╌╌╌╌┼╌╌╌╌╌╌╌╌╌┼╌╌╌╌╌╌╌╌╌╌╌╌┼╌╌╌╌╌╌╌╌╌╌╌╌╌╌╌╌╌┼╌╌╌╌╌╌╌╌╌╌╌╌╌╌╌╌╌╌┼╌╌╌╌╌╌╌╌╌╌╌╌╌╌╌╌╌╌┤\n",
              "│ http://img.scoop. ┆ San Pedro: One Of ┆ 467     ┆ …          ┆ 6.749783        ┆ 2573977429828778 ┆ 30627            │\n",
              "│ it/ttXSVXiLO…     ┆ Mother Natu…      ┆         ┆            ┆                 ┆ 516              ┆                  │\n",
              "├╌╌╌╌╌╌╌╌╌╌╌╌╌╌╌╌╌╌╌┼╌╌╌╌╌╌╌╌╌╌╌╌╌╌╌╌╌╌╌┼╌╌╌╌╌╌╌╌╌┼╌╌╌╌╌╌╌╌╌╌╌╌┼╌╌╌╌╌╌╌╌╌╌╌╌╌╌╌╌╌┼╌╌╌╌╌╌╌╌╌╌╌╌╌╌╌╌╌╌┼╌╌╌╌╌╌╌╌╌╌╌╌╌╌╌╌╌╌┤\n",
              "│ https://www.stock ┆ YZV200025S ©      ┆ 650     ┆ …          ┆ 6.5293713       ┆ -287044708876239 ┆ 31548            │\n",
              "│ trekimages.c…     ┆ Stocktrek Images… ┆         ┆            ┆                 ┆ 0972             ┆                  │\n",
              "├╌╌╌╌╌╌╌╌╌╌╌╌╌╌╌╌╌╌╌┼╌╌╌╌╌╌╌╌╌╌╌╌╌╌╌╌╌╌╌┼╌╌╌╌╌╌╌╌╌┼╌╌╌╌╌╌╌╌╌╌╌╌┼╌╌╌╌╌╌╌╌╌╌╌╌╌╌╌╌╌┼╌╌╌╌╌╌╌╌╌╌╌╌╌╌╌╌╌╌┼╌╌╌╌╌╌╌╌╌╌╌╌╌╌╌╌╌╌┤\n",
              "│ https://i.pinimg. ┆ Grace Kelly       ┆ 1024    ┆ …          ┆ 6.592924        ┆ 5832306745679284 ┆ 31816            │\n",
              "│ com/original…     ┆ Outfits           ┆         ┆            ┆                 ┆ 925              ┆                  │\n",
              "├╌╌╌╌╌╌╌╌╌╌╌╌╌╌╌╌╌╌╌┼╌╌╌╌╌╌╌╌╌╌╌╌╌╌╌╌╌╌╌┼╌╌╌╌╌╌╌╌╌┼╌╌╌╌╌╌╌╌╌╌╌╌┼╌╌╌╌╌╌╌╌╌╌╌╌╌╌╌╌╌┼╌╌╌╌╌╌╌╌╌╌╌╌╌╌╌╌╌╌┼╌╌╌╌╌╌╌╌╌╌╌╌╌╌╌╌╌╌┤\n",
              "│ https://armeniana ┆ Portrait - Anush, ┆ 800     ┆ …          ┆ 6.8501353       ┆ -389656721174975 ┆ 33458            │\n",
              "│ rt.am/wp-con…     ┆ by Artur Mk…      ┆         ┆            ┆                 ┆ 2908             ┆                  │\n",
              "├╌╌╌╌╌╌╌╌╌╌╌╌╌╌╌╌╌╌╌┼╌╌╌╌╌╌╌╌╌╌╌╌╌╌╌╌╌╌╌┼╌╌╌╌╌╌╌╌╌┼╌╌╌╌╌╌╌╌╌╌╌╌┼╌╌╌╌╌╌╌╌╌╌╌╌╌╌╌╌╌┼╌╌╌╌╌╌╌╌╌╌╌╌╌╌╌╌╌╌┼╌╌╌╌╌╌╌╌╌╌╌╌╌╌╌╌╌╌┤\n",
              "│ https://render.fi ┆ Children Listen   ┆ 400     ┆ …          ┆ 6.833819        ┆ 2734666252886784 ┆ 34136            │\n",
              "│ neartamerica…     ┆ To A Shepherd…    ┆         ┆            ┆                 ┆ 419              ┆                  │\n",
              "╰───────────────────┴───────────────────┴─────────┴────────────┴─────────────────┴──────────────────┴──────────────────╯\n",
              "\n",
              "(Showing first 8 of 635561 rows)"
            ],
            "text/html": [
              "<div>\n",
              "<table class=\"dataframe\">\n",
              "<thead><tr><th style=\"text-wrap: nowrap; max-width:192px; overflow:auto; text-align:left\">URL<br />Utf8</th><th style=\"text-wrap: nowrap; max-width:192px; overflow:auto; text-align:left\">TEXT<br />Utf8</th><th style=\"text-wrap: nowrap; max-width:192px; overflow:auto; text-align:left\">WIDTH<br />Float64</th><th style=\"text-wrap: nowrap; max-width:192px; overflow:auto; text-align:left\">HEIGHT<br />Float64</th><th style=\"text-wrap: nowrap; max-width:192px; overflow:auto; text-align:left\">similarity<br />Float64</th><th style=\"text-wrap: nowrap; max-width:192px; overflow:auto; text-align:left\">punsafe<br />Float32</th><th style=\"text-wrap: nowrap; max-width:192px; overflow:auto; text-align:left\">pwatermark<br />Float32</th><th style=\"text-wrap: nowrap; max-width:192px; overflow:auto; text-align:left\">AESTHETIC_SCORE<br />Float32</th><th style=\"text-wrap: nowrap; max-width:192px; overflow:auto; text-align:left\">hash<br />Int64</th><th style=\"text-wrap: nowrap; max-width:192px; overflow:auto; text-align:left\">__index_level_0__<br />Int64</th></tr></thead>\n",
              "<tbody>\n",
              "<tr><td><div style=\"text-align:left; max-width:192px; max-height:64px; overflow:auto\">https://images.assetsdelivery.com/thumbnails/torsakarin/torsakarin1507/torsakarin150700324.jpg</div></td><td><div style=\"text-align:left; max-width:192px; max-height:64px; overflow:auto\">Photo pour Japanese pagoda and old house in Kyoto at twilight - image libre de droit</div></td><td><div style=\"text-align:left; max-width:192px; max-height:64px; overflow:auto\">450</div></td><td><div style=\"text-align:left; max-width:192px; max-height:64px; overflow:auto\">297</div></td><td><div style=\"text-align:left; max-width:192px; max-height:64px; overflow:auto\">0.3459470868110657</div></td><td><div style=\"text-align:left; max-width:192px; max-height:64px; overflow:auto\">0.00054100156</div></td><td><div style=\"text-align:left; max-width:192px; max-height:64px; overflow:auto\">0.034098506</div></td><td><div style=\"text-align:left; max-width:192px; max-height:64px; overflow:auto\">6.5262036</div></td><td><div style=\"text-align:left; max-width:192px; max-height:64px; overflow:auto\">1777707726169138033</div></td><td><div style=\"text-align:left; max-width:192px; max-height:64px; overflow:auto\">396</div></td></tr>\n",
              "<tr><td><div style=\"text-align:left; max-width:192px; max-height:64px; overflow:auto\">https://images.fineartamerica.com/images/artworkimages/mediumlarge/1/soaring-peter-eades.jpg</div></td><td><div style=\"text-align:left; max-width:192px; max-height:64px; overflow:auto\">Soaring by Peter Eades</div></td><td><div style=\"text-align:left; max-width:192px; max-height:64px; overflow:auto\">675</div></td><td><div style=\"text-align:left; max-width:192px; max-height:64px; overflow:auto\">900</div></td><td><div style=\"text-align:left; max-width:192px; max-height:64px; overflow:auto\">0.31040453910827637</div></td><td><div style=\"text-align:left; max-width:192px; max-height:64px; overflow:auto\">0.0000057670622</div></td><td><div style=\"text-align:left; max-width:192px; max-height:64px; overflow:auto\">0.0764483</div></td><td><div style=\"text-align:left; max-width:192px; max-height:64px; overflow:auto\">6.636003</div></td><td><div style=\"text-align:left; max-width:192px; max-height:64px; overflow:auto\">4231601394502896160</div></td><td><div style=\"text-align:left; max-width:192px; max-height:64px; overflow:auto\">7984</div></td></tr>\n",
              "<tr><td><div style=\"text-align:left; max-width:192px; max-height:64px; overflow:auto\">https://assets.vg247.com/current/2014/12/far-cry-4-concept-art-5.jpg</div></td><td><div style=\"text-align:left; max-width:192px; max-height:64px; overflow:auto\">far cry 4 concept art is the reason why it 39 s a beautiful game vg247. Black Bedroom Furniture Sets. Home Design Ideas</div></td><td><div style=\"text-align:left; max-width:192px; max-height:64px; overflow:auto\">1600</div></td><td><div style=\"text-align:left; max-width:192px; max-height:64px; overflow:auto\">754</div></td><td><div style=\"text-align:left; max-width:192px; max-height:64px; overflow:auto\">0.3163999617099762</div></td><td><div style=\"text-align:left; max-width:192px; max-height:64px; overflow:auto\">0.000042637777</div></td><td><div style=\"text-align:left; max-width:192px; max-height:64px; overflow:auto\">0.49650294</div></td><td><div style=\"text-align:left; max-width:192px; max-height:64px; overflow:auto\">6.690522</div></td><td><div style=\"text-align:left; max-width:192px; max-height:64px; overflow:auto\">6867480114123960364</div></td><td><div style=\"text-align:left; max-width:192px; max-height:64px; overflow:auto\">21440</div></td></tr>\n",
              "<tr><td><div style=\"text-align:left; max-width:192px; max-height:64px; overflow:auto\">http://img.scoop.it/ttXSVXiLOZzyjJ2rG9AUijl72eJkfbmt4t8yenImKBVvK0kTmF0xjctABnaLJIm9</div></td><td><div style=\"text-align:left; max-width:192px; max-height:64px; overflow:auto\">San Pedro: One Of Mother Nature's Most Powerful Psychedelics | Ayahuasca  アヤワスカ | Scoop.it</div></td><td><div style=\"text-align:left; max-width:192px; max-height:64px; overflow:auto\">467</div></td><td><div style=\"text-align:left; max-width:192px; max-height:64px; overflow:auto\">369</div></td><td><div style=\"text-align:left; max-width:192px; max-height:64px; overflow:auto\">0.30887341499328613</div></td><td><div style=\"text-align:left; max-width:192px; max-height:64px; overflow:auto\">0.00061166286</div></td><td><div style=\"text-align:left; max-width:192px; max-height:64px; overflow:auto\">0.10270452</div></td><td><div style=\"text-align:left; max-width:192px; max-height:64px; overflow:auto\">6.749783</div></td><td><div style=\"text-align:left; max-width:192px; max-height:64px; overflow:auto\">2573977429828778516</div></td><td><div style=\"text-align:left; max-width:192px; max-height:64px; overflow:auto\">30627</div></td></tr>\n",
              "<tr><td><div style=\"text-align:left; max-width:192px; max-height:64px; overflow:auto\">https://www.stocktrekimages.com/pix/simg/misc/yzv200025s_p.jpg</div></td><td><div style=\"text-align:left; max-width:192px; max-height:64px; overflow:auto\">YZV200025S © Stocktrek Images, Inc. 360 panorama of the Milky Way over Lago-Naki plateau, Russia.</div></td><td><div style=\"text-align:left; max-width:192px; max-height:64px; overflow:auto\">650</div></td><td><div style=\"text-align:left; max-width:192px; max-height:64px; overflow:auto\">308</div></td><td><div style=\"text-align:left; max-width:192px; max-height:64px; overflow:auto\">0.332099974155426</div></td><td><div style=\"text-align:left; max-width:192px; max-height:64px; overflow:auto\">0.000012845917</div></td><td><div style=\"text-align:left; max-width:192px; max-height:64px; overflow:auto\">0.057178423</div></td><td><div style=\"text-align:left; max-width:192px; max-height:64px; overflow:auto\">6.5293713</div></td><td><div style=\"text-align:left; max-width:192px; max-height:64px; overflow:auto\">-2870447088762390972</div></td><td><div style=\"text-align:left; max-width:192px; max-height:64px; overflow:auto\">31548</div></td></tr>\n",
              "<tr><td><div style=\"text-align:left; max-width:192px; max-height:64px; overflow:auto\">https://i.pinimg.com/originals/d2/72/f3/d272f3250515ae0ae4317c34afac60b7.jpg</div></td><td><div style=\"text-align:left; max-width:192px; max-height:64px; overflow:auto\">Grace Kelly Outfits</div></td><td><div style=\"text-align:left; max-width:192px; max-height:64px; overflow:auto\">1024</div></td><td><div style=\"text-align:left; max-width:192px; max-height:64px; overflow:auto\">1437</div></td><td><div style=\"text-align:left; max-width:192px; max-height:64px; overflow:auto\">0.316754013299942</div></td><td><div style=\"text-align:left; max-width:192px; max-height:64px; overflow:auto\">0.021755934</div></td><td><div style=\"text-align:left; max-width:192px; max-height:64px; overflow:auto\">0.1605802</div></td><td><div style=\"text-align:left; max-width:192px; max-height:64px; overflow:auto\">6.592924</div></td><td><div style=\"text-align:left; max-width:192px; max-height:64px; overflow:auto\">5832306745679284925</div></td><td><div style=\"text-align:left; max-width:192px; max-height:64px; overflow:auto\">31816</div></td></tr>\n",
              "<tr><td><div style=\"text-align:left; max-width:192px; max-height:64px; overflow:auto\">https://armenianart.am/wp-content/uploads/2019/06/portrait-anush-by-artur-mkhitaryan-1t-800x1066.jpg</div></td><td><div style=\"text-align:left; max-width:192px; max-height:64px; overflow:auto\">Portrait - Anush, by Artur Mkhitaryan</div></td><td><div style=\"text-align:left; max-width:192px; max-height:64px; overflow:auto\">800</div></td><td><div style=\"text-align:left; max-width:192px; max-height:64px; overflow:auto\">1066</div></td><td><div style=\"text-align:left; max-width:192px; max-height:64px; overflow:auto\">0.31701627373695374</div></td><td><div style=\"text-align:left; max-width:192px; max-height:64px; overflow:auto\">0.00001840563</div></td><td><div style=\"text-align:left; max-width:192px; max-height:64px; overflow:auto\">0.13537237</div></td><td><div style=\"text-align:left; max-width:192px; max-height:64px; overflow:auto\">6.8501353</div></td><td><div style=\"text-align:left; max-width:192px; max-height:64px; overflow:auto\">-3896567211749752908</div></td><td><div style=\"text-align:left; max-width:192px; max-height:64px; overflow:auto\">33458</div></td></tr>\n",
              "<tr><td><div style=\"text-align:left; max-width:192px; max-height:64px; overflow:auto\">https://render.fineartamerica.com/images/rendered/search/poster/images/artworkimages/medium/1/children-listen-to-a-shepherd-playing-a-flute-j-alsina.jpg</div></td><td><div style=\"text-align:left; max-width:192px; max-height:64px; overflow:auto\">Children Listen To A Shepherd Playing A Flute Poster by J Alsina</div></td><td><div style=\"text-align:left; max-width:192px; max-height:64px; overflow:auto\">400</div></td><td><div style=\"text-align:left; max-width:192px; max-height:64px; overflow:auto\">341</div></td><td><div style=\"text-align:left; max-width:192px; max-height:64px; overflow:auto\">0.3169437646865845</div></td><td><div style=\"text-align:left; max-width:192px; max-height:64px; overflow:auto\">0.0000028656173</div></td><td><div style=\"text-align:left; max-width:192px; max-height:64px; overflow:auto\">0.040163245</div></td><td><div style=\"text-align:left; max-width:192px; max-height:64px; overflow:auto\">6.833819</div></td><td><div style=\"text-align:left; max-width:192px; max-height:64px; overflow:auto\">2734666252886784419</div></td><td><div style=\"text-align:left; max-width:192px; max-height:64px; overflow:auto\">34136</div></td></tr>\n",
              "</tbody>\n",
              "</table>\n",
              "<small>(Showing first 8 of 635561 rows)</small>\n",
              "</div>"
            ]
          },
          "metadata": {},
          "execution_count": 5
        }
      ],
      "source": [
        "parquet_df.collect()"
      ]
    },
    {
      "cell_type": "code",
      "execution_count": 6,
      "id": "b257cd91-db90-4803-afd9-9fdf571cf755",
      "metadata": {
        "id": "b257cd91-db90-4803-afd9-9fdf571cf755",
        "tags": []
      },
      "outputs": [],
      "source": [
        "parquet_df = parquet_df.select(parquet_df[\"URL\"], parquet_df[\"TEXT\"], parquet_df[\"AESTHETIC_SCORE\"])"
      ]
    },
    {
      "cell_type": "markdown",
      "id": "f28047df-bf05-47df-b4d4-3507a8f7d2ac",
      "metadata": {
        "id": "f28047df-bf05-47df-b4d4-3507a8f7d2ac"
      },
      "source": [
        "## Downloading Images\n",
        "\n",
        "Like many datasets, instead of storing the actual images in the dataset's files it looks like the Dataset authors have instead opted to store a URL to the image.\n",
        "\n",
        "Let's use Daft's builtin functionality to download the images and open them as PIL Images - all in just a few lines of code!"
      ]
    },
    {
      "cell_type": "code",
      "execution_count": 7,
      "id": "f1e5cd84-4526-4a91-9fd5-f4e78f35965d",
      "metadata": {
        "id": "f1e5cd84-4526-4a91-9fd5-f4e78f35965d",
        "tags": []
      },
      "outputs": [],
      "source": [
        "# Filter for images with longer descriptions\n",
        "parquet_df_with_long_strings = parquet_df.where(parquet_df[\"TEXT\"].str.length() > 50)\n",
        "\n",
        "# Download images\n",
        "images_df = parquet_df_with_long_strings.with_column(\n",
        "    \"image\",\n",
        "    parquet_df[\"URL\"].url.download().image.decode(),\n",
        ")"
      ]
    },
    {
      "cell_type": "code",
      "execution_count": 8,
      "id": "c1361728-8b1a-4e6e-9632-ddd17cad948b",
      "metadata": {
        "colab": {
          "base_uri": "https://localhost:8080/",
          "height": 474
        },
        "id": "c1361728-8b1a-4e6e-9632-ddd17cad948b",
        "outputId": "41758106-e4a3-4f30-ae95-f03a6e0de83b",
        "tags": []
      },
      "outputs": [
        {
          "output_type": "display_data",
          "data": {
            "text/plain": [
              "╭────────────────────────────────┬────────────────────────────────┬─────────────────┬──────────────╮\n",
              "│ URL                            ┆ TEXT                           ┆ AESTHETIC_SCORE ┆ image        │\n",
              "│ ---                            ┆ ---                            ┆ ---             ┆ ---          │\n",
              "│ Utf8                           ┆ Utf8                           ┆ Float32         ┆ Image[MIXED] │\n",
              "╞════════════════════════════════╪════════════════════════════════╪═════════════════╪══════════════╡\n",
              "│ https://images.assetsdelivery… ┆ Photo pour Japanese pagoda an… ┆ 6.5262036       ┆ <Image>      │\n",
              "├╌╌╌╌╌╌╌╌╌╌╌╌╌╌╌╌╌╌╌╌╌╌╌╌╌╌╌╌╌╌╌╌┼╌╌╌╌╌╌╌╌╌╌╌╌╌╌╌╌╌╌╌╌╌╌╌╌╌╌╌╌╌╌╌╌┼╌╌╌╌╌╌╌╌╌╌╌╌╌╌╌╌╌┼╌╌╌╌╌╌╌╌╌╌╌╌╌╌┤\n",
              "│ https://assets.vg247.com/curr… ┆ far cry 4 concept art is the … ┆ 6.690522        ┆ <Image>      │\n",
              "├╌╌╌╌╌╌╌╌╌╌╌╌╌╌╌╌╌╌╌╌╌╌╌╌╌╌╌╌╌╌╌╌┼╌╌╌╌╌╌╌╌╌╌╌╌╌╌╌╌╌╌╌╌╌╌╌╌╌╌╌╌╌╌╌╌┼╌╌╌╌╌╌╌╌╌╌╌╌╌╌╌╌╌┼╌╌╌╌╌╌╌╌╌╌╌╌╌╌┤\n",
              "│ http://img.scoop.it/ttXSVXiLO… ┆ San Pedro: One Of Mother Natu… ┆ 6.749783        ┆ <Image>      │\n",
              "├╌╌╌╌╌╌╌╌╌╌╌╌╌╌╌╌╌╌╌╌╌╌╌╌╌╌╌╌╌╌╌╌┼╌╌╌╌╌╌╌╌╌╌╌╌╌╌╌╌╌╌╌╌╌╌╌╌╌╌╌╌╌╌╌╌┼╌╌╌╌╌╌╌╌╌╌╌╌╌╌╌╌╌┼╌╌╌╌╌╌╌╌╌╌╌╌╌╌┤\n",
              "│ https://www.stocktrekimages.c… ┆ YZV200025S © Stocktrek Images… ┆ 6.5293713       ┆ <Image>      │\n",
              "├╌╌╌╌╌╌╌╌╌╌╌╌╌╌╌╌╌╌╌╌╌╌╌╌╌╌╌╌╌╌╌╌┼╌╌╌╌╌╌╌╌╌╌╌╌╌╌╌╌╌╌╌╌╌╌╌╌╌╌╌╌╌╌╌╌┼╌╌╌╌╌╌╌╌╌╌╌╌╌╌╌╌╌┼╌╌╌╌╌╌╌╌╌╌╌╌╌╌┤\n",
              "│ https://render.fineartamerica… ┆ Children Listen To A Shepherd… ┆ 6.833819        ┆ <Image>      │\n",
              "╰────────────────────────────────┴────────────────────────────────┴─────────────────┴──────────────╯\n",
              "\n",
              "(Showing first 5 rows)"
            ],
            "text/html": [
              "<div>\n",
              "<table class=\"dataframe\">\n",
              "<thead><tr><th style=\"text-wrap: nowrap; max-width:192px; overflow:auto; text-align:left\">URL<br />Utf8</th><th style=\"text-wrap: nowrap; max-width:192px; overflow:auto; text-align:left\">TEXT<br />Utf8</th><th style=\"text-wrap: nowrap; max-width:192px; overflow:auto; text-align:left\">AESTHETIC_SCORE<br />Float32</th><th style=\"text-wrap: nowrap; max-width:192px; overflow:auto; text-align:left\">image<br />Image[MIXED]</th></tr></thead>\n",
              "<tbody>\n",
              "<tr><td><div style=\"text-align:left; max-width:192px; max-height:64px; overflow:auto\">https://images.assetsdelivery.com/thumbnails/torsakarin/torsakarin1507/torsakarin150700324.jpg</div></td><td><div style=\"text-align:left; max-width:192px; max-height:64px; overflow:auto\">Photo pour Japanese pagoda and old house in Kyoto at twilight - image libre de droit</div></td><td><div style=\"text-align:left; max-width:192px; max-height:64px; overflow:auto\">6.5262036</div></td><td><div style=\"text-align:left; max-width:192px; max-height:64px; overflow:auto\"><img style=\"max-height:128px;width:auto\" src=\"data:image/png;base64, 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\" alt=\"<Image>\" /></div></td></tr>\n",
              "<tr><td><div style=\"text-align:left; max-width:192px; max-height:64px; overflow:auto\">https://assets.vg247.com/current/2014/12/far-cry-4-concept-art-5.jpg</div></td><td><div style=\"text-align:left; max-width:192px; max-height:64px; overflow:auto\">far cry 4 concept art is the reason why it 39 s a beautiful game vg247. Black Bedroom Furniture Sets. Home Design Ideas</div></td><td><div style=\"text-align:left; max-width:192px; max-height:64px; overflow:auto\">6.690522</div></td><td><div style=\"text-align:left; max-width:192px; max-height:64px; overflow:auto\"><img style=\"max-height:128px;width:auto\" src=\"data:image/png;base64, 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\" alt=\"<Image>\" /></div></td></tr>\n",
              "<tr><td><div style=\"text-align:left; max-width:192px; max-height:64px; overflow:auto\">http://img.scoop.it/ttXSVXiLOZzyjJ2rG9AUijl72eJkfbmt4t8yenImKBVvK0kTmF0xjctABnaLJIm9</div></td><td><div style=\"text-align:left; max-width:192px; max-height:64px; overflow:auto\">San Pedro: One Of Mother Nature's Most Powerful Psychedelics | Ayahuasca  アヤワスカ | Scoop.it</div></td><td><div style=\"text-align:left; max-width:192px; max-height:64px; overflow:auto\">6.749783</div></td><td><div style=\"text-align:left; max-width:192px; max-height:64px; overflow:auto\"><img style=\"max-height:128px;width:auto\" src=\"data:image/png;base64, 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\" alt=\"<Image>\" /></div></td></tr>\n",
              "<tr><td><div style=\"text-align:left; max-width:192px; max-height:64px; overflow:auto\">https://www.stocktrekimages.com/pix/simg/misc/yzv200025s_p.jpg</div></td><td><div style=\"text-align:left; max-width:192px; max-height:64px; overflow:auto\">YZV200025S © Stocktrek Images, Inc. 360 panorama of the Milky Way over Lago-Naki plateau, Russia.</div></td><td><div style=\"text-align:left; max-width:192px; max-height:64px; overflow:auto\">6.5293713</div></td><td><div style=\"text-align:left; max-width:192px; max-height:64px; overflow:auto\"><img style=\"max-height:128px;width:auto\" src=\"data:image/png;base64, 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\" alt=\"<Image>\" /></div></td></tr>\n",
              "<tr><td><div style=\"text-align:left; max-width:192px; max-height:64px; overflow:auto\">https://render.fineartamerica.com/images/rendered/search/poster/images/artworkimages/medium/1/children-listen-to-a-shepherd-playing-a-flute-j-alsina.jpg</div></td><td><div style=\"text-align:left; max-width:192px; max-height:64px; overflow:auto\">Children Listen To A Shepherd Playing A Flute Poster by J Alsina</div></td><td><div style=\"text-align:left; max-width:192px; max-height:64px; overflow:auto\">6.833819</div></td><td><div style=\"text-align:left; max-width:192px; max-height:64px; overflow:auto\"><img style=\"max-height:128px;width:auto\" src=\"data:image/png;base64, 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\" alt=\"<Image>\" /></div></td></tr>\n",
              "</tbody>\n",
              "</table>\n",
              "<small>(Showing first 5 rows)</small>\n",
              "</div>"
            ]
          },
          "metadata": {}
        }
      ],
      "source": [
        "images_df.show(5)"
      ]
    },
    {
      "cell_type": "markdown",
      "id": "6e6f59ee",
      "metadata": {
        "id": "6e6f59ee"
      },
      "source": [
        "Great! Now we have a pretty good idea of what our dataset looks like."
      ]
    },
    {
      "cell_type": "markdown",
      "id": "gCTmONUl81Vw",
      "metadata": {
        "id": "gCTmONUl81Vw"
      },
      "source": [
        "# Running the Mini DALL-E model on a GPU using Daft UDFs\n",
        "\n",
        "Let's now run the Mini DALL-E model over the `\"TEXT\"` column, and generate images for those texts!\n",
        "\n",
        "Using GPUs with Daft UDFs is simple. Just specify `num_gpus=N`, where `N` is the number of GPUs that your UDF is going to use."
      ]
    },
    {
      "cell_type": "code",
      "execution_count": 9,
      "id": "b500e7f5",
      "metadata": {
        "tags": [],
        "id": "b500e7f5",
        "outputId": "85fdc724-1c5a-4d6d-a3de-a18c4f1b3ce8",
        "colab": {
          "base_uri": "https://localhost:8080/",
          "height": 162
        }
      },
      "outputs": [
        {
          "output_type": "display_data",
          "data": {
            "text/plain": [
              "╭────────────────────────────────┬─────────────────────┬─────────────────┬──────────────┬────────────────────────╮\n",
              "│ URL                            ┆ TEXT                ┆ AESTHETIC_SCORE ┆ image        ┆ generated_image        │\n",
              "│ ---                            ┆ ---                 ┆ ---             ┆ ---          ┆ ---                    │\n",
              "│ Utf8                           ┆ Utf8                ┆ Float32         ┆ Image[MIXED] ┆ Python                 │\n",
              "╞════════════════════════════════╪═════════════════════╪═════════════════╪══════════════╪════════════════════════╡\n",
              "│ https://images.assetsdelivery… ┆ Photo pour Japanese ┆ 6.5262036       ┆ <Image>      ┆ <PIL.Image.Image image │\n",
              "│                                ┆ pagoda an…          ┆                 ┆              ┆ mode=R…                │\n",
              "╰────────────────────────────────┴─────────────────────┴─────────────────┴──────────────┴────────────────────────╯\n",
              "\n",
              "(Showing first 1 rows)"
            ],
            "text/html": [
              "<div>\n",
              "<table class=\"dataframe\">\n",
              "<thead><tr><th style=\"text-wrap: nowrap; max-width:192px; overflow:auto; text-align:left\">URL<br />Utf8</th><th style=\"text-wrap: nowrap; max-width:192px; overflow:auto; text-align:left\">TEXT<br />Utf8</th><th style=\"text-wrap: nowrap; max-width:192px; overflow:auto; text-align:left\">AESTHETIC_SCORE<br />Float32</th><th style=\"text-wrap: nowrap; max-width:192px; overflow:auto; text-align:left\">image<br />Image[MIXED]</th><th style=\"text-wrap: nowrap; max-width:192px; overflow:auto; text-align:left\">generated_image<br />Python</th></tr></thead>\n",
              "<tbody>\n",
              "<tr><td><div style=\"text-align:left; max-width:192px; max-height:64px; overflow:auto\">https://images.assetsdelivery.com/thumbnails/torsakarin/torsakarin1507/torsakarin150700324.jpg</div></td><td><div style=\"text-align:left; max-width:192px; max-height:64px; overflow:auto\">Photo pour Japanese pagoda and old house in Kyoto at twilight - image libre de droit</div></td><td><div style=\"text-align:left; max-width:192px; max-height:64px; overflow:auto\">6.5262036</div></td><td><div style=\"text-align:left; max-width:192px; max-height:64px; overflow:auto\"><img style=\"max-height:128px;width:auto\" src=\"data:image/png;base64, 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\" alt=\"<Image>\" /></div></td><td><div style=\"text-align:left; max-width:192px; max-height:64px; overflow:auto\"><img style=\"max-height:128px;width:auto\" src=\"data:image/png;base64, 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\" alt=\"<PIL.Image.Image image mode=RGB size=256x256 at 0x79E0D1156140>\" /></div></td></tr>\n",
              "</tbody>\n",
              "</table>\n",
              "<small>(Showing first 1 rows)</small>\n",
              "</div>"
            ]
          },
          "metadata": {}
        }
      ],
      "source": [
        "import torch\n",
        "from min_dalle import MinDalle\n",
        "\n",
        "\n",
        "@daft.udf(return_dtype=daft.DataType.python())\n",
        "class GenerateImageFromText:\n",
        "    def __init__(self):\n",
        "        self.model = MinDalle(\n",
        "            models_root=\"./pretrained\",\n",
        "            dtype=torch.float32,\n",
        "            # Tell the min-dalle library to load model on GPU or GPU\n",
        "            device=\"cuda\" if USE_GPU else \"cpu\",\n",
        "            is_mega=False,\n",
        "            is_reusable=True,\n",
        "        )\n",
        "\n",
        "    def __call__(self, text_col):\n",
        "        return [\n",
        "            self.model.generate_image(\n",
        "                t,\n",
        "                seed=-1,\n",
        "                grid_size=1,\n",
        "                is_seamless=False,\n",
        "                temperature=1,\n",
        "                top_k=256,\n",
        "                supercondition_factor=32,\n",
        "            )\n",
        "            for t in text_col.to_pylist()\n",
        "        ]\n",
        "\n",
        "\n",
        "if USE_GPU:\n",
        "    GenerateImageFromText = GenerateImageFromText.override_options(num_gpus=1)\n",
        "\n",
        "images_df.with_column(\n",
        "    \"generated_image\",\n",
        "    GenerateImageFromText(images_df[\"TEXT\"]),\n",
        ").show(1)"
      ]
    },
    {
      "cell_type": "code",
      "source": [
        "import torch\n",
        "from min_dalle import MinDalle\n",
        "import daft\n",
        "\n",
        "# Set GPU Usage\n",
        "USE_GPU = torch.cuda.is_available()\n",
        "\n",
        "# Define UDF class\n",
        "@daft.udf(return_dtype=daft.DataType.python())\n",
        "class GenerateImageFromText:\n",
        "    def __init__(self):\n",
        "        self.model = MinDalle(\n",
        "            models_root=\"./pretrained\",\n",
        "            dtype=torch.float32,\n",
        "            # Load model on GPU or CPU based on availability\n",
        "            device=\"cuda\" if USE_GPU else \"cpu\",\n",
        "            is_mega=False,  # Smaller model for quicker execution\n",
        "            is_reusable=True,\n",
        "        )\n",
        "\n",
        "    def __call__(self, text_col):\n",
        "        return [\n",
        "            self.model.generate_image(\n",
        "                text=t,\n",
        "                seed=-1,\n",
        "                grid_size=1,\n",
        "                is_seamless=False,\n",
        "                temperature=1,\n",
        "                top_k=256,\n",
        "                supercondition_factor=32,\n",
        "            )\n",
        "            for t in text_col.to_pylist()\n",
        "        ]\n",
        "\n",
        "\n",
        "# If GPU is available, specify GPU options for the UDF\n",
        "if USE_GPU:\n",
        "    GenerateImageFromText = GenerateImageFromText.override_options(num_gpus=1)\n",
        "\n",
        "# Load images DataFrame (mock example)\n",
        "images_df = daft.from_pydict({\"TEXT\": [\"A Female Patient sitting in hospital\"]})\n",
        "\n",
        "# Generate images and add to the DataFrame\n",
        "generated_df = images_df.with_column(\n",
        "    \"generated_image\",\n",
        "    GenerateImageFromText(images_df[\"TEXT\"]),\n",
        ")\n",
        "\n",
        "# Show a single generated image as proof of concept\n",
        "generated_df.show(1)\n"
      ],
      "metadata": {
        "id": "KxUgxxTdwCKi",
        "outputId": "8a3d99dd-137d-4c92-fe2d-64b5b597aaea",
        "colab": {
          "base_uri": "https://localhost:8080/",
          "height": 162
        }
      },
      "id": "KxUgxxTdwCKi",
      "execution_count": 12,
      "outputs": [
        {
          "output_type": "display_data",
          "data": {
            "text/plain": [
              "╭────────────────────────────────┬────────────────────────────────╮\n",
              "│ TEXT                           ┆ generated_image                │\n",
              "│ ---                            ┆ ---                            │\n",
              "│ Utf8                           ┆ Python                         │\n",
              "╞════════════════════════════════╪════════════════════════════════╡\n",
              "│ A Female Patient sitting in h… ┆ <PIL.Image.Image image mode=R… │\n",
              "╰────────────────────────────────┴────────────────────────────────╯\n",
              "\n",
              "(Showing first 1 rows)"
            ],
            "text/html": [
              "<div>\n",
              "<table class=\"dataframe\">\n",
              "<thead><tr><th style=\"text-wrap: nowrap; max-width:192px; overflow:auto; text-align:left\">TEXT<br />Utf8</th><th style=\"text-wrap: nowrap; max-width:192px; overflow:auto; text-align:left\">generated_image<br />Python</th></tr></thead>\n",
              "<tbody>\n",
              "<tr><td><div style=\"text-align:left; max-width:192px; max-height:64px; overflow:auto\">A Female Patient sitting in hospital</div></td><td><div style=\"text-align:left; max-width:192px; max-height:64px; overflow:auto\"><img style=\"max-height:128px;width:auto\" src=\"data:image/png;base64, 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\" alt=\"<PIL.Image.Image image mode=RGB size=256x256 at 0x79E0981E9120>\" /></div></td></tr>\n",
              "</tbody>\n",
              "</table>\n",
              "<small>(Showing first 1 rows)</small>\n",
              "</div>"
            ]
          },
          "metadata": {}
        }
      ]
    },
    {
      "cell_type": "code",
      "execution_count": 9,
      "id": "5764ae83-9100-47c7-95d3-4880d9f1fe7c",
      "metadata": {
        "id": "5764ae83-9100-47c7-95d3-4880d9f1fe7c"
      },
      "outputs": [],
      "source": []
    }
  ],
  "metadata": {
    "accelerator": "GPU",
    "colab": {
      "provenance": []
    },
    "kernelspec": {
      "display_name": "Python 3 (ipykernel)",
      "language": "python",
      "name": "python3"
    },
    "language_info": {
      "codemirror_mode": {
        "name": "ipython",
        "version": 3
      },
      "file_extension": ".py",
      "mimetype": "text/x-python",
      "name": "python",
      "nbconvert_exporter": "python",
      "pygments_lexer": "ipython3",
      "version": "3.10.9"
    },
    "vscode": {
      "interpreter": {
        "hash": "e5d77f7bd5a748e4f6412a25f9708ab7af36936de941fc795d1a6b75eb2da082"
      }
    }
  },
  "nbformat": 4,
  "nbformat_minor": 5
}